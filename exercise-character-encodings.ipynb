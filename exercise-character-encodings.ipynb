{
 "cells": [
  {
   "cell_type": "markdown",
   "id": "1a95f5f7",
   "metadata": {
    "papermill": {
     "duration": 0.017893,
     "end_time": "2022-02-25T14:05:32.406273",
     "exception": false,
     "start_time": "2022-02-25T14:05:32.388380",
     "status": "completed"
    },
    "tags": []
   },
   "source": [
    "**This notebook is an exercise in the [Data Cleaning](https://www.kaggle.com/learn/data-cleaning) course.  You can reference the tutorial at [this link](https://www.kaggle.com/alexisbcook/character-encodings).**\n",
    "\n",
    "---\n"
   ]
  },
  {
   "cell_type": "markdown",
   "id": "043ed438",
   "metadata": {
    "papermill": {
     "duration": 0.016743,
     "end_time": "2022-02-25T14:05:32.439699",
     "exception": false,
     "start_time": "2022-02-25T14:05:32.422956",
     "status": "completed"
    },
    "tags": []
   },
   "source": [
    "In this exercise, you'll apply what you learned in the **Character encodings** tutorial.\n",
    "\n",
    "# Setup\n",
    "\n",
    "The questions below will give you feedback on your work. Run the following cell to set up the feedback system."
   ]
  },
  {
   "cell_type": "code",
   "execution_count": 1,
   "id": "6d2d3cf7",
   "metadata": {
    "execution": {
     "iopub.execute_input": "2022-02-25T14:05:32.486266Z",
     "iopub.status.busy": "2022-02-25T14:05:32.485442Z",
     "iopub.status.idle": "2022-02-25T14:05:32.564880Z",
     "shell.execute_reply": "2022-02-25T14:05:32.565400Z",
     "shell.execute_reply.started": "2022-02-25T13:59:19.571742Z"
    },
    "papermill": {
     "duration": 0.10923,
     "end_time": "2022-02-25T14:05:32.565719",
     "exception": false,
     "start_time": "2022-02-25T14:05:32.456489",
     "status": "completed"
    },
    "tags": []
   },
   "outputs": [
    {
     "name": "stdout",
     "output_type": "stream",
     "text": [
      "Setup Complete\n"
     ]
    }
   ],
   "source": [
    "from learntools.core import binder\n",
    "binder.bind(globals())\n",
    "from learntools.data_cleaning.ex4 import *\n",
    "print(\"Setup Complete\")"
   ]
  },
  {
   "cell_type": "markdown",
   "id": "537a6ed5",
   "metadata": {
    "papermill": {
     "duration": 0.017219,
     "end_time": "2022-02-25T14:05:32.601080",
     "exception": false,
     "start_time": "2022-02-25T14:05:32.583861",
     "status": "completed"
    },
    "tags": []
   },
   "source": [
    "# Get our environment set up\n",
    "\n",
    "The first thing we'll need to do is load in the libraries we'll be using."
   ]
  },
  {
   "cell_type": "code",
   "execution_count": 2,
   "id": "a1d2765e",
   "metadata": {
    "execution": {
     "iopub.execute_input": "2022-02-25T14:05:32.641074Z",
     "iopub.status.busy": "2022-02-25T14:05:32.640168Z",
     "iopub.status.idle": "2022-02-25T14:05:32.643365Z",
     "shell.execute_reply": "2022-02-25T14:05:32.642806Z",
     "shell.execute_reply.started": "2022-02-25T13:59:32.427304Z"
    },
    "papermill": {
     "duration": 0.025452,
     "end_time": "2022-02-25T14:05:32.643511",
     "exception": false,
     "start_time": "2022-02-25T14:05:32.618059",
     "status": "completed"
    },
    "tags": []
   },
   "outputs": [],
   "source": [
    "# modules we'll use\n",
    "import pandas as pd\n",
    "import numpy as np\n",
    "\n",
    "# helpful character encoding module\n",
    "import chardet\n",
    "\n",
    "# set seed for reproducibility\n",
    "np.random.seed(0)"
   ]
  },
  {
   "cell_type": "markdown",
   "id": "6f682c40",
   "metadata": {
    "papermill": {
     "duration": 0.016636,
     "end_time": "2022-02-25T14:05:32.677815",
     "exception": false,
     "start_time": "2022-02-25T14:05:32.661179",
     "status": "completed"
    },
    "tags": []
   },
   "source": [
    "# 1) What are encodings?\n",
    "\n",
    "You're working with a dataset composed of bytes.  Run the code cell below to print a sample entry."
   ]
  },
  {
   "cell_type": "code",
   "execution_count": 3,
   "id": "5a090ef7",
   "metadata": {
    "execution": {
     "iopub.execute_input": "2022-02-25T14:05:32.719398Z",
     "iopub.status.busy": "2022-02-25T14:05:32.718482Z",
     "iopub.status.idle": "2022-02-25T14:05:32.722515Z",
     "shell.execute_reply": "2022-02-25T14:05:32.723064Z",
     "shell.execute_reply.started": "2022-02-25T13:59:43.499369Z"
    },
    "papermill": {
     "duration": 0.028383,
     "end_time": "2022-02-25T14:05:32.723271",
     "exception": false,
     "start_time": "2022-02-25T14:05:32.694888",
     "status": "completed"
    },
    "tags": []
   },
   "outputs": [
    {
     "name": "stdout",
     "output_type": "stream",
     "text": [
      "b'\\xa7A\\xa6n'\n",
      "data type: <class 'bytes'>\n"
     ]
    }
   ],
   "source": [
    "sample_entry = b'\\xa7A\\xa6n'\n",
    "print(sample_entry)\n",
    "print('data type:', type(sample_entry))"
   ]
  },
  {
   "cell_type": "markdown",
   "id": "b0c95d44",
   "metadata": {
    "papermill": {
     "duration": 0.017428,
     "end_time": "2022-02-25T14:05:32.758873",
     "exception": false,
     "start_time": "2022-02-25T14:05:32.741445",
     "status": "completed"
    },
    "tags": []
   },
   "source": [
    "You notice that it doesn't use the standard UTF-8 encoding. \n",
    "\n",
    "Use the next code cell to create a variable `new_entry` that changes the encoding from `\"big5-tw\"` to `\"utf-8\"`.  `new_entry` should have the bytes datatype."
   ]
  },
  {
   "cell_type": "code",
   "execution_count": 4,
   "id": "9e15fadb",
   "metadata": {
    "execution": {
     "iopub.execute_input": "2022-02-25T14:05:32.803813Z",
     "iopub.status.busy": "2022-02-25T14:05:32.803074Z",
     "iopub.status.idle": "2022-02-25T14:05:32.809785Z",
     "shell.execute_reply": "2022-02-25T14:05:32.809180Z",
     "shell.execute_reply.started": "2022-02-25T14:01:26.805180Z"
    },
    "papermill": {
     "duration": 0.032975,
     "end_time": "2022-02-25T14:05:32.809935",
     "exception": false,
     "start_time": "2022-02-25T14:05:32.776960",
     "status": "completed"
    },
    "tags": []
   },
   "outputs": [
    {
     "data": {
      "application/javascript": [
       "parent.postMessage({\"jupyterEvent\": \"custom.exercise_interaction\", \"data\": {\"outcomeType\": 1, \"valueTowardsCompletion\": 0.3333333333333333, \"interactionType\": 1, \"questionType\": 1, \"questionId\": \"1_EncodingsIntro\", \"learnToolsVersion\": \"0.3.4\", \"failureMessage\": \"\", \"exceptionClass\": \"\", \"trace\": \"\"}}, \"*\")"
      ],
      "text/plain": [
       "<IPython.core.display.Javascript object>"
      ]
     },
     "metadata": {},
     "output_type": "display_data"
    },
    {
     "data": {
      "text/markdown": [
       "<span style=\"color:#33cc33\">Correct</span>"
      ],
      "text/plain": [
       "Correct"
      ]
     },
     "metadata": {},
     "output_type": "display_data"
    }
   ],
   "source": [
    "before_data = sample_entry.decode(\"big5-tw\")\n",
    "new_entry = before_data.encode()\n",
    "# Check your answer\n",
    "q1.check()"
   ]
  },
  {
   "cell_type": "code",
   "execution_count": 5,
   "id": "2c55f712",
   "metadata": {
    "execution": {
     "iopub.execute_input": "2022-02-25T14:05:32.853064Z",
     "iopub.status.busy": "2022-02-25T14:05:32.852346Z",
     "iopub.status.idle": "2022-02-25T14:05:32.854709Z",
     "shell.execute_reply": "2022-02-25T14:05:32.854110Z",
     "shell.execute_reply.started": "2022-02-25T14:01:31.529995Z"
    },
    "papermill": {
     "duration": 0.025589,
     "end_time": "2022-02-25T14:05:32.854856",
     "exception": false,
     "start_time": "2022-02-25T14:05:32.829267",
     "status": "completed"
    },
    "tags": []
   },
   "outputs": [],
   "source": [
    "# Lines below will give you a hint or solution code\n",
    "#q1.hint()\n",
    "#q1.solution()"
   ]
  },
  {
   "cell_type": "markdown",
   "id": "35b65d3e",
   "metadata": {
    "papermill": {
     "duration": 0.018697,
     "end_time": "2022-02-25T14:05:32.893840",
     "exception": false,
     "start_time": "2022-02-25T14:05:32.875143",
     "status": "completed"
    },
    "tags": []
   },
   "source": [
    "# 2) Reading in files with encoding problems\n",
    "\n",
    "Use the code cell below to read in this file at path `\"../input/fatal-police-shootings-in-the-us/PoliceKillingsUS.csv\"`.  \n",
    "\n",
    "Figure out what the correct encoding should be and read in the file to a DataFrame `police_killings`."
   ]
  },
  {
   "cell_type": "code",
   "execution_count": 6,
   "id": "c9a7f7c1",
   "metadata": {
    "execution": {
     "iopub.execute_input": "2022-02-25T14:05:32.935205Z",
     "iopub.status.busy": "2022-02-25T14:05:32.934509Z",
     "iopub.status.idle": "2022-02-25T14:05:32.957938Z",
     "shell.execute_reply": "2022-02-25T14:05:32.958403Z",
     "shell.execute_reply.started": "2022-02-25T14:03:59.043114Z"
    },
    "papermill": {
     "duration": 0.045727,
     "end_time": "2022-02-25T14:05:32.958596",
     "exception": false,
     "start_time": "2022-02-25T14:05:32.912869",
     "status": "completed"
    },
    "tags": []
   },
   "outputs": [
    {
     "data": {
      "application/javascript": [
       "parent.postMessage({\"jupyterEvent\": \"custom.exercise_interaction\", \"data\": {\"outcomeType\": 1, \"valueTowardsCompletion\": 0.3333333333333333, \"interactionType\": 1, \"questionType\": 1, \"questionId\": \"2_ReadIn\", \"learnToolsVersion\": \"0.3.4\", \"failureMessage\": \"\", \"exceptionClass\": \"\", \"trace\": \"\"}}, \"*\")"
      ],
      "text/plain": [
       "<IPython.core.display.Javascript object>"
      ]
     },
     "metadata": {},
     "output_type": "display_data"
    },
    {
     "data": {
      "text/markdown": [
       "<span style=\"color:#33cc33\">Correct</span>"
      ],
      "text/plain": [
       "Correct"
      ]
     },
     "metadata": {},
     "output_type": "display_data"
    }
   ],
   "source": [
    "police_killings = pd.read_csv(\"../input/fatal-police-shootings-in-the-us/PoliceKillingsUS.csv\", encoding='Windows-1252')\n",
    "q2.check()"
   ]
  },
  {
   "cell_type": "markdown",
   "id": "a3ad501e",
   "metadata": {
    "papermill": {
     "duration": 0.02176,
     "end_time": "2022-02-25T14:05:33.000344",
     "exception": false,
     "start_time": "2022-02-25T14:05:32.978584",
     "status": "completed"
    },
    "tags": []
   },
   "source": [
    "Feel free to use any additional code cells for supplemental work.  To get credit for finishing this question, you'll need to run `q2.check()` and get a result of **Correct**."
   ]
  },
  {
   "cell_type": "code",
   "execution_count": 7,
   "id": "df7a9358",
   "metadata": {
    "execution": {
     "iopub.execute_input": "2022-02-25T14:05:33.043876Z",
     "iopub.status.busy": "2022-02-25T14:05:33.043257Z",
     "iopub.status.idle": "2022-02-25T14:05:33.046791Z",
     "shell.execute_reply": "2022-02-25T14:05:33.047327Z"
    },
    "papermill": {
     "duration": 0.027069,
     "end_time": "2022-02-25T14:05:33.047516",
     "exception": false,
     "start_time": "2022-02-25T14:05:33.020447",
     "status": "completed"
    },
    "tags": []
   },
   "outputs": [],
   "source": [
    "# (Optional) Use this code cell for any additional work."
   ]
  },
  {
   "cell_type": "code",
   "execution_count": 8,
   "id": "fe7669a2",
   "metadata": {
    "execution": {
     "iopub.execute_input": "2022-02-25T14:05:33.091404Z",
     "iopub.status.busy": "2022-02-25T14:05:33.090779Z",
     "iopub.status.idle": "2022-02-25T14:05:33.093612Z",
     "shell.execute_reply": "2022-02-25T14:05:33.094258Z",
     "shell.execute_reply.started": "2022-02-25T14:04:07.933552Z"
    },
    "papermill": {
     "duration": 0.026672,
     "end_time": "2022-02-25T14:05:33.094428",
     "exception": false,
     "start_time": "2022-02-25T14:05:33.067756",
     "status": "completed"
    },
    "tags": []
   },
   "outputs": [],
   "source": [
    "# Lines below will give you a hint or solution code\n",
    "#q2.hint()\n",
    "#q2.solution()"
   ]
  },
  {
   "cell_type": "markdown",
   "id": "f9bbb278",
   "metadata": {
    "papermill": {
     "duration": 0.020129,
     "end_time": "2022-02-25T14:05:33.135120",
     "exception": false,
     "start_time": "2022-02-25T14:05:33.114991",
     "status": "completed"
    },
    "tags": []
   },
   "source": [
    "# 3) Saving your files with UTF-8 encoding\n",
    "\n",
    "Save a version of the police killings dataset to CSV with UTF-8 encoding.  Your answer will be marked correct after saving this file.  \n",
    "\n",
    "Note: When using the `to_csv()` method, supply only the name of the file (e.g., `\"my_file.csv\"`).  This saves the file at the filepath `\"/kaggle/working/my_file.csv\"`."
   ]
  },
  {
   "cell_type": "code",
   "execution_count": 9,
   "id": "2a0ab563",
   "metadata": {
    "execution": {
     "iopub.execute_input": "2022-02-25T14:05:33.179354Z",
     "iopub.status.busy": "2022-02-25T14:05:33.178688Z",
     "iopub.status.idle": "2022-02-25T14:05:33.218930Z",
     "shell.execute_reply": "2022-02-25T14:05:33.219429Z",
     "shell.execute_reply.started": "2022-02-25T14:04:43.978457Z"
    },
    "papermill": {
     "duration": 0.06397,
     "end_time": "2022-02-25T14:05:33.219618",
     "exception": false,
     "start_time": "2022-02-25T14:05:33.155648",
     "status": "completed"
    },
    "tags": []
   },
   "outputs": [
    {
     "data": {
      "application/javascript": [
       "parent.postMessage({\"jupyterEvent\": \"custom.exercise_interaction\", \"data\": {\"outcomeType\": 1, \"valueTowardsCompletion\": 0.3333333333333333, \"interactionType\": 1, \"questionType\": 2, \"questionId\": \"3_SaveCSV\", \"learnToolsVersion\": \"0.3.4\", \"failureMessage\": \"\", \"exceptionClass\": \"\", \"trace\": \"\"}}, \"*\")"
      ],
      "text/plain": [
       "<IPython.core.display.Javascript object>"
      ]
     },
     "metadata": {},
     "output_type": "display_data"
    },
    {
     "data": {
      "text/markdown": [
       "<span style=\"color:#33cc33\">Correct</span>"
      ],
      "text/plain": [
       "Correct"
      ]
     },
     "metadata": {},
     "output_type": "display_data"
    }
   ],
   "source": [
    "# TODO: Save the police killings dataset to CSV\n",
    "police_killings.to_csv(\"my_file.csv\")\n",
    "\n",
    "# Check your answer\n",
    "q3.check()"
   ]
  },
  {
   "cell_type": "code",
   "execution_count": 10,
   "id": "a6b93ced",
   "metadata": {
    "execution": {
     "iopub.execute_input": "2022-02-25T14:05:33.265885Z",
     "iopub.status.busy": "2022-02-25T14:05:33.265232Z",
     "iopub.status.idle": "2022-02-25T14:05:33.268811Z",
     "shell.execute_reply": "2022-02-25T14:05:33.268298Z",
     "shell.execute_reply.started": "2022-02-25T14:04:51.631323Z"
    },
    "papermill": {
     "duration": 0.027915,
     "end_time": "2022-02-25T14:05:33.268957",
     "exception": false,
     "start_time": "2022-02-25T14:05:33.241042",
     "status": "completed"
    },
    "tags": []
   },
   "outputs": [],
   "source": [
    "# Lines below will give you a hint or solution code\n",
    "#q3.hint()\n",
    "#q3.solution()"
   ]
  },
  {
   "cell_type": "markdown",
   "id": "2cb42348",
   "metadata": {
    "papermill": {
     "duration": 0.020895,
     "end_time": "2022-02-25T14:05:33.311278",
     "exception": false,
     "start_time": "2022-02-25T14:05:33.290383",
     "status": "completed"
    },
    "tags": []
   },
   "source": [
    "# (Optional) More practice\n",
    "\n",
    "Check out [this dataset of files in different character encodings](https://www.kaggle.com/rtatman/character-encoding-examples). Can you read in all the files with their original encodings and them save them out as UTF-8 files?\n",
    "\n",
    "If you have a file that's in UTF-8 but has just a couple of weird-looking characters in it, you can try out the [ftfy module](https://ftfy.readthedocs.io/en/latest/#) and see if it helps. \n",
    "\n",
    "# Keep going\n",
    "\n",
    "In the final lesson, learn how to [**clean up inconsistent text entries**](https://www.kaggle.com/alexisbcook/inconsistent-data-entry) in your dataset."
   ]
  },
  {
   "cell_type": "markdown",
   "id": "16937b75",
   "metadata": {
    "papermill": {
     "duration": 0.021152,
     "end_time": "2022-02-25T14:05:33.353971",
     "exception": false,
     "start_time": "2022-02-25T14:05:33.332819",
     "status": "completed"
    },
    "tags": []
   },
   "source": [
    "---\n",
    "\n",
    "\n",
    "\n",
    "\n",
    "*Have questions or comments? Visit the [course discussion forum](https://www.kaggle.com/learn/data-cleaning/discussion) to chat with other learners.*"
   ]
  }
 ],
 "metadata": {
  "kernelspec": {
   "display_name": "Python 3",
   "language": "python",
   "name": "python3"
  },
  "language_info": {
   "codemirror_mode": {
    "name": "ipython",
    "version": 3
   },
   "file_extension": ".py",
   "mimetype": "text/x-python",
   "name": "python",
   "nbconvert_exporter": "python",
   "pygments_lexer": "ipython3",
   "version": "3.7.12"
  },
  "papermill": {
   "default_parameters": {},
   "duration": 11.828107,
   "end_time": "2022-02-25T14:05:33.985667",
   "environment_variables": {},
   "exception": null,
   "input_path": "__notebook__.ipynb",
   "output_path": "__notebook__.ipynb",
   "parameters": {},
   "start_time": "2022-02-25T14:05:22.157560",
   "version": "2.3.3"
  }
 },
 "nbformat": 4,
 "nbformat_minor": 5
}
