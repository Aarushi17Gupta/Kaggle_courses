{
 "cells": [
  {
   "cell_type": "markdown",
   "id": "3391e587",
   "metadata": {
    "papermill": {
     "duration": 0.038138,
     "end_time": "2022-02-26T04:37:07.298396",
     "exception": false,
     "start_time": "2022-02-26T04:37:07.260258",
     "status": "completed"
    },
    "tags": []
   },
   "source": [
    "**This notebook is an exercise in the [Data Visualization](https://www.kaggle.com/learn/data-visualization) course.  You can reference the tutorial at [this link](https://www.kaggle.com/alexisbcook/scatter-plots).**\n",
    "\n",
    "---\n"
   ]
  },
  {
   "cell_type": "markdown",
   "id": "535ee41f",
   "metadata": {
    "papermill": {
     "duration": 0.039585,
     "end_time": "2022-02-26T04:37:07.376235",
     "exception": false,
     "start_time": "2022-02-26T04:37:07.336650",
     "status": "completed"
    },
    "tags": []
   },
   "source": [
    "In this exercise, you will use your new knowledge to propose a solution to a real-world scenario.  To succeed, you will need to import data into Python, answer questions using the data, and generate **scatter plots** to understand patterns in the data.\n",
    "\n",
    "## Scenario\n",
    "\n",
    "You work for a major candy producer, and your goal is to write a report that your company can use to guide the design of its next product.  Soon after starting your research, you stumble across this [very interesting dataset](https://fivethirtyeight.com/features/the-ultimate-halloween-candy-power-ranking/) containing results from a fun survey to crowdsource favorite candies.\n",
    "\n",
    "## Setup\n",
    "\n",
    "Run the next cell to import and configure the Python libraries that you need to complete the exercise."
   ]
  },
  {
   "cell_type": "code",
   "execution_count": 1,
   "id": "a22150f2",
   "metadata": {
    "execution": {
     "iopub.execute_input": "2022-02-26T04:37:07.457312Z",
     "iopub.status.busy": "2022-02-26T04:37:07.455280Z",
     "iopub.status.idle": "2022-02-26T04:37:08.734391Z",
     "shell.execute_reply": "2022-02-26T04:37:08.735219Z",
     "shell.execute_reply.started": "2022-02-26T04:22:09.924125Z"
    },
    "papermill": {
     "duration": 1.320899,
     "end_time": "2022-02-26T04:37:08.735847",
     "exception": false,
     "start_time": "2022-02-26T04:37:07.414948",
     "status": "completed"
    },
    "tags": []
   },
   "outputs": [
    {
     "name": "stdout",
     "output_type": "stream",
     "text": [
      "Setup Complete\n"
     ]
    }
   ],
   "source": [
    "import pandas as pd\n",
    "pd.plotting.register_matplotlib_converters()\n",
    "import matplotlib.pyplot as plt\n",
    "%matplotlib inline\n",
    "import seaborn as sns\n",
    "print(\"Setup Complete\")"
   ]
  },
  {
   "cell_type": "markdown",
   "id": "1d68ca25",
   "metadata": {
    "papermill": {
     "duration": 0.038745,
     "end_time": "2022-02-26T04:37:08.813572",
     "exception": false,
     "start_time": "2022-02-26T04:37:08.774827",
     "status": "completed"
    },
    "tags": []
   },
   "source": [
    "The questions below will give you feedback on your work. Run the following cell to set up our feedback system."
   ]
  },
  {
   "cell_type": "code",
   "execution_count": 2,
   "id": "81e7b963",
   "metadata": {
    "execution": {
     "iopub.execute_input": "2022-02-26T04:37:08.894144Z",
     "iopub.status.busy": "2022-02-26T04:37:08.893419Z",
     "iopub.status.idle": "2022-02-26T04:37:08.972383Z",
     "shell.execute_reply": "2022-02-26T04:37:08.972989Z",
     "shell.execute_reply.started": "2022-02-26T04:22:11.163537Z"
    },
    "papermill": {
     "duration": 0.122245,
     "end_time": "2022-02-26T04:37:08.973186",
     "exception": false,
     "start_time": "2022-02-26T04:37:08.850941",
     "status": "completed"
    },
    "tags": []
   },
   "outputs": [
    {
     "name": "stdout",
     "output_type": "stream",
     "text": [
      "Setup Complete\n"
     ]
    }
   ],
   "source": [
    "# Set up code checking\n",
    "import os\n",
    "if not os.path.exists(\"../input/candy.csv\"):\n",
    "    os.symlink(\"../input/data-for-datavis/candy.csv\", \"../input/candy.csv\") \n",
    "from learntools.core import binder\n",
    "binder.bind(globals())\n",
    "from learntools.data_viz_to_coder.ex4 import *\n",
    "print(\"Setup Complete\")"
   ]
  },
  {
   "cell_type": "markdown",
   "id": "ca51d436",
   "metadata": {
    "papermill": {
     "duration": 0.035506,
     "end_time": "2022-02-26T04:37:09.046606",
     "exception": false,
     "start_time": "2022-02-26T04:37:09.011100",
     "status": "completed"
    },
    "tags": []
   },
   "source": [
    "## Step 1: Load the Data\n",
    "\n",
    "Read the candy data file into `candy_data`.  Use the `\"id\"` column to label the rows."
   ]
  },
  {
   "cell_type": "code",
   "execution_count": 3,
   "id": "87a64851",
   "metadata": {
    "execution": {
     "iopub.execute_input": "2022-02-26T04:37:09.125016Z",
     "iopub.status.busy": "2022-02-26T04:37:09.124248Z",
     "iopub.status.idle": "2022-02-26T04:37:09.138510Z",
     "shell.execute_reply": "2022-02-26T04:37:09.139134Z",
     "shell.execute_reply.started": "2022-02-26T04:24:15.306545Z"
    },
    "papermill": {
     "duration": 0.054475,
     "end_time": "2022-02-26T04:37:09.139304",
     "exception": false,
     "start_time": "2022-02-26T04:37:09.084829",
     "status": "completed"
    },
    "tags": []
   },
   "outputs": [
    {
     "data": {
      "application/javascript": [
       "parent.postMessage({\"jupyterEvent\": \"custom.exercise_interaction\", \"data\": {\"outcomeType\": 1, \"valueTowardsCompletion\": 0.3333333333333333, \"interactionType\": 1, \"questionType\": 1, \"questionId\": \"1_LoadData\", \"learnToolsVersion\": \"0.3.4\", \"failureMessage\": \"\", \"exceptionClass\": \"\", \"trace\": \"\"}}, \"*\")"
      ],
      "text/plain": [
       "<IPython.core.display.Javascript object>"
      ]
     },
     "metadata": {},
     "output_type": "display_data"
    },
    {
     "data": {
      "text/markdown": [
       "<span style=\"color:#33cc33\">Correct</span>"
      ],
      "text/plain": [
       "Correct"
      ]
     },
     "metadata": {},
     "output_type": "display_data"
    }
   ],
   "source": [
    "# Path of the file to read\n",
    "candy_filepath = \"../input/candy.csv\"\n",
    "\n",
    "# Fill in the line below to read the file into a variable candy_data\n",
    "candy_data = pd.read_csv(candy_filepath, index_col='id')\n",
    "\n",
    "# Run the line below with no changes to check that you've loaded the data correctly\n",
    "step_1.check()"
   ]
  },
  {
   "cell_type": "code",
   "execution_count": 4,
   "id": "88375f8a",
   "metadata": {
    "execution": {
     "iopub.execute_input": "2022-02-26T04:37:09.218820Z",
     "iopub.status.busy": "2022-02-26T04:37:09.218081Z",
     "iopub.status.idle": "2022-02-26T04:37:09.221386Z",
     "shell.execute_reply": "2022-02-26T04:37:09.221964Z",
     "shell.execute_reply.started": "2022-02-26T04:24:19.402595Z"
    },
    "papermill": {
     "duration": 0.04481,
     "end_time": "2022-02-26T04:37:09.222150",
     "exception": false,
     "start_time": "2022-02-26T04:37:09.177340",
     "status": "completed"
    },
    "tags": []
   },
   "outputs": [],
   "source": [
    "# Lines below will give you a hint or solution code\n",
    "#step_1.hint()\n",
    "#step_1.solution()"
   ]
  },
  {
   "cell_type": "markdown",
   "id": "916e71bd",
   "metadata": {
    "papermill": {
     "duration": 0.036835,
     "end_time": "2022-02-26T04:37:09.296890",
     "exception": false,
     "start_time": "2022-02-26T04:37:09.260055",
     "status": "completed"
    },
    "tags": []
   },
   "source": [
    "## Step 2: Review the data\n",
    "\n",
    "Use a Python command to print the first five rows of the data."
   ]
  },
  {
   "cell_type": "code",
   "execution_count": 5,
   "id": "ed5198f4",
   "metadata": {
    "execution": {
     "iopub.execute_input": "2022-02-26T04:37:09.376987Z",
     "iopub.status.busy": "2022-02-26T04:37:09.376204Z",
     "iopub.status.idle": "2022-02-26T04:37:09.396915Z",
     "shell.execute_reply": "2022-02-26T04:37:09.397444Z",
     "shell.execute_reply.started": "2022-02-26T04:24:50.513605Z"
    },
    "papermill": {
     "duration": 0.063697,
     "end_time": "2022-02-26T04:37:09.397649",
     "exception": false,
     "start_time": "2022-02-26T04:37:09.333952",
     "status": "completed"
    },
    "tags": []
   },
   "outputs": [
    {
     "data": {
      "text/html": [
       "<div>\n",
       "<style scoped>\n",
       "    .dataframe tbody tr th:only-of-type {\n",
       "        vertical-align: middle;\n",
       "    }\n",
       "\n",
       "    .dataframe tbody tr th {\n",
       "        vertical-align: top;\n",
       "    }\n",
       "\n",
       "    .dataframe thead th {\n",
       "        text-align: right;\n",
       "    }\n",
       "</style>\n",
       "<table border=\"1\" class=\"dataframe\">\n",
       "  <thead>\n",
       "    <tr style=\"text-align: right;\">\n",
       "      <th></th>\n",
       "      <th>competitorname</th>\n",
       "      <th>chocolate</th>\n",
       "      <th>fruity</th>\n",
       "      <th>caramel</th>\n",
       "      <th>peanutyalmondy</th>\n",
       "      <th>nougat</th>\n",
       "      <th>crispedricewafer</th>\n",
       "      <th>hard</th>\n",
       "      <th>bar</th>\n",
       "      <th>pluribus</th>\n",
       "      <th>sugarpercent</th>\n",
       "      <th>pricepercent</th>\n",
       "      <th>winpercent</th>\n",
       "    </tr>\n",
       "    <tr>\n",
       "      <th>id</th>\n",
       "      <th></th>\n",
       "      <th></th>\n",
       "      <th></th>\n",
       "      <th></th>\n",
       "      <th></th>\n",
       "      <th></th>\n",
       "      <th></th>\n",
       "      <th></th>\n",
       "      <th></th>\n",
       "      <th></th>\n",
       "      <th></th>\n",
       "      <th></th>\n",
       "      <th></th>\n",
       "    </tr>\n",
       "  </thead>\n",
       "  <tbody>\n",
       "    <tr>\n",
       "      <th>0</th>\n",
       "      <td>100 Grand</td>\n",
       "      <td>Yes</td>\n",
       "      <td>No</td>\n",
       "      <td>Yes</td>\n",
       "      <td>No</td>\n",
       "      <td>No</td>\n",
       "      <td>Yes</td>\n",
       "      <td>No</td>\n",
       "      <td>Yes</td>\n",
       "      <td>No</td>\n",
       "      <td>0.732</td>\n",
       "      <td>0.860</td>\n",
       "      <td>66.971725</td>\n",
       "    </tr>\n",
       "    <tr>\n",
       "      <th>1</th>\n",
       "      <td>3 Musketeers</td>\n",
       "      <td>Yes</td>\n",
       "      <td>No</td>\n",
       "      <td>No</td>\n",
       "      <td>No</td>\n",
       "      <td>Yes</td>\n",
       "      <td>No</td>\n",
       "      <td>No</td>\n",
       "      <td>Yes</td>\n",
       "      <td>No</td>\n",
       "      <td>0.604</td>\n",
       "      <td>0.511</td>\n",
       "      <td>67.602936</td>\n",
       "    </tr>\n",
       "    <tr>\n",
       "      <th>2</th>\n",
       "      <td>Air Heads</td>\n",
       "      <td>No</td>\n",
       "      <td>Yes</td>\n",
       "      <td>No</td>\n",
       "      <td>No</td>\n",
       "      <td>No</td>\n",
       "      <td>No</td>\n",
       "      <td>No</td>\n",
       "      <td>No</td>\n",
       "      <td>No</td>\n",
       "      <td>0.906</td>\n",
       "      <td>0.511</td>\n",
       "      <td>52.341465</td>\n",
       "    </tr>\n",
       "    <tr>\n",
       "      <th>3</th>\n",
       "      <td>Almond Joy</td>\n",
       "      <td>Yes</td>\n",
       "      <td>No</td>\n",
       "      <td>No</td>\n",
       "      <td>Yes</td>\n",
       "      <td>No</td>\n",
       "      <td>No</td>\n",
       "      <td>No</td>\n",
       "      <td>Yes</td>\n",
       "      <td>No</td>\n",
       "      <td>0.465</td>\n",
       "      <td>0.767</td>\n",
       "      <td>50.347546</td>\n",
       "    </tr>\n",
       "    <tr>\n",
       "      <th>4</th>\n",
       "      <td>Baby Ruth</td>\n",
       "      <td>Yes</td>\n",
       "      <td>No</td>\n",
       "      <td>Yes</td>\n",
       "      <td>Yes</td>\n",
       "      <td>Yes</td>\n",
       "      <td>No</td>\n",
       "      <td>No</td>\n",
       "      <td>Yes</td>\n",
       "      <td>No</td>\n",
       "      <td>0.604</td>\n",
       "      <td>0.767</td>\n",
       "      <td>56.914547</td>\n",
       "    </tr>\n",
       "  </tbody>\n",
       "</table>\n",
       "</div>"
      ],
      "text/plain": [
       "   competitorname chocolate fruity caramel peanutyalmondy nougat  \\\n",
       "id                                                                 \n",
       "0       100 Grand       Yes     No     Yes             No     No   \n",
       "1    3 Musketeers       Yes     No      No             No    Yes   \n",
       "2       Air Heads        No    Yes      No             No     No   \n",
       "3      Almond Joy       Yes     No      No            Yes     No   \n",
       "4       Baby Ruth       Yes     No     Yes            Yes    Yes   \n",
       "\n",
       "   crispedricewafer hard  bar pluribus  sugarpercent  pricepercent  winpercent  \n",
       "id                                                                              \n",
       "0               Yes   No  Yes       No         0.732         0.860   66.971725  \n",
       "1                No   No  Yes       No         0.604         0.511   67.602936  \n",
       "2                No   No   No       No         0.906         0.511   52.341465  \n",
       "3                No   No  Yes       No         0.465         0.767   50.347546  \n",
       "4                No   No  Yes       No         0.604         0.767   56.914547  "
      ]
     },
     "execution_count": 5,
     "metadata": {},
     "output_type": "execute_result"
    }
   ],
   "source": [
    "# Print the first five rows of the data\n",
    "candy_data.head() # Your code here"
   ]
  },
  {
   "cell_type": "markdown",
   "id": "f16b8639",
   "metadata": {
    "papermill": {
     "duration": 0.037752,
     "end_time": "2022-02-26T04:37:09.473686",
     "exception": false,
     "start_time": "2022-02-26T04:37:09.435934",
     "status": "completed"
    },
    "tags": []
   },
   "source": [
    "The dataset contains 83 rows, where each corresponds to a different candy bar.  There are 13 columns:\n",
    "- `'competitorname'` contains the name of the candy bar. \n",
    "- the next **9** columns (from `'chocolate'` to `'pluribus'`) describe the candy.  For instance, rows with chocolate candies have `\"Yes\"` in the `'chocolate'` column (and candies without chocolate have `\"No\"` in the same column).\n",
    "- `'sugarpercent'` provides some indication of the amount of sugar, where higher values signify higher sugar content.\n",
    "- `'pricepercent'` shows the price per unit, relative to the other candies in the dataset.\n",
    "- `'winpercent'` is calculated from the survey results; higher values indicate that the candy was more popular with survey respondents.\n",
    "\n",
    "Use the first five rows of the data to answer the questions below."
   ]
  },
  {
   "cell_type": "code",
   "execution_count": 6,
   "id": "d725c7af",
   "metadata": {
    "execution": {
     "iopub.execute_input": "2022-02-26T04:37:09.553712Z",
     "iopub.status.busy": "2022-02-26T04:37:09.553012Z",
     "iopub.status.idle": "2022-02-26T04:37:09.563566Z",
     "shell.execute_reply": "2022-02-26T04:37:09.564115Z",
     "shell.execute_reply.started": "2022-02-26T04:26:17.299823Z"
    },
    "papermill": {
     "duration": 0.052256,
     "end_time": "2022-02-26T04:37:09.564290",
     "exception": false,
     "start_time": "2022-02-26T04:37:09.512034",
     "status": "completed"
    },
    "tags": []
   },
   "outputs": [
    {
     "data": {
      "text/plain": [
       "100 Grand                 1\n",
       "Snickers                  1\n",
       "Nestle Smarties           1\n",
       "Skittles wildberry        1\n",
       "Skittles original         1\n",
       "                         ..\n",
       "Kit Kat                   1\n",
       "Junior Mints              1\n",
       "Jawbusters                1\n",
       "Hershey's Special Dark    1\n",
       "Whoppers                  1\n",
       "Name: competitorname, Length: 83, dtype: int64"
      ]
     },
     "execution_count": 6,
     "metadata": {},
     "output_type": "execute_result"
    }
   ],
   "source": [
    "candy_data['competitorname'].value_counts()"
   ]
  },
  {
   "cell_type": "code",
   "execution_count": 7,
   "id": "b2d3b07b",
   "metadata": {
    "execution": {
     "iopub.execute_input": "2022-02-26T04:37:09.643492Z",
     "iopub.status.busy": "2022-02-26T04:37:09.642811Z",
     "iopub.status.idle": "2022-02-26T04:37:09.649581Z",
     "shell.execute_reply": "2022-02-26T04:37:09.650161Z",
     "shell.execute_reply.started": "2022-02-26T04:27:17.246222Z"
    },
    "papermill": {
     "duration": 0.048064,
     "end_time": "2022-02-26T04:37:09.650340",
     "exception": false,
     "start_time": "2022-02-26T04:37:09.602276",
     "status": "completed"
    },
    "tags": []
   },
   "outputs": [
    {
     "data": {
      "application/javascript": [
       "parent.postMessage({\"jupyterEvent\": \"custom.exercise_interaction\", \"data\": {\"outcomeType\": 1, \"valueTowardsCompletion\": 0.3333333333333333, \"interactionType\": 1, \"questionType\": 1, \"questionId\": \"2_ReviewData\", \"learnToolsVersion\": \"0.3.4\", \"failureMessage\": \"\", \"exceptionClass\": \"\", \"trace\": \"\"}}, \"*\")"
      ],
      "text/plain": [
       "<IPython.core.display.Javascript object>"
      ]
     },
     "metadata": {},
     "output_type": "display_data"
    },
    {
     "data": {
      "text/markdown": [
       "<span style=\"color:#33cc33\">Correct</span>"
      ],
      "text/plain": [
       "Correct"
      ]
     },
     "metadata": {},
     "output_type": "display_data"
    }
   ],
   "source": [
    "# Fill in the line below: Which candy was more popular with survey respondents:\n",
    "# '3 Musketeers' or 'Almond Joy'?  (Please enclose your answer in single quotes.)\n",
    "more_popular = '3 Musketeers'\n",
    "\n",
    "# Fill in the line below: Which candy has higher sugar content: 'Air Heads'\n",
    "# or 'Baby Ruth'? (Please enclose your answer in single quotes.)\n",
    "more_sugar = 'Air Heads'\n",
    "\n",
    "# Check your answers\n",
    "step_2.check()"
   ]
  },
  {
   "cell_type": "code",
   "execution_count": 8,
   "id": "1447e6ab",
   "metadata": {
    "execution": {
     "iopub.execute_input": "2022-02-26T04:37:09.734893Z",
     "iopub.status.busy": "2022-02-26T04:37:09.734135Z",
     "iopub.status.idle": "2022-02-26T04:37:09.736182Z",
     "shell.execute_reply": "2022-02-26T04:37:09.736773Z"
    },
    "papermill": {
     "duration": 0.045832,
     "end_time": "2022-02-26T04:37:09.736957",
     "exception": false,
     "start_time": "2022-02-26T04:37:09.691125",
     "status": "completed"
    },
    "tags": []
   },
   "outputs": [],
   "source": [
    "# Lines below will give you a hint or solution code\n",
    "#step_2.hint()\n",
    "#step_2.solution()"
   ]
  },
  {
   "cell_type": "markdown",
   "id": "7ef17d80",
   "metadata": {
    "papermill": {
     "duration": 0.038678,
     "end_time": "2022-02-26T04:37:09.815953",
     "exception": false,
     "start_time": "2022-02-26T04:37:09.777275",
     "status": "completed"
    },
    "tags": []
   },
   "source": [
    "## Step 3: The role of sugar\n",
    "\n",
    "Do people tend to prefer candies with higher sugar content?  \n",
    "\n",
    "#### Part A\n",
    "\n",
    "Create a scatter plot that shows the relationship between `'sugarpercent'` (on the horizontal x-axis) and `'winpercent'` (on the vertical y-axis).  _Don't add a regression line just yet -- you'll do that in the next step!_"
   ]
  },
  {
   "cell_type": "code",
   "execution_count": 9,
   "id": "216933f9",
   "metadata": {
    "execution": {
     "iopub.execute_input": "2022-02-26T04:37:09.899006Z",
     "iopub.status.busy": "2022-02-26T04:37:09.898341Z",
     "iopub.status.idle": "2022-02-26T04:37:10.170869Z",
     "shell.execute_reply": "2022-02-26T04:37:10.171352Z",
     "shell.execute_reply.started": "2022-02-26T04:28:12.737088Z"
    },
    "papermill": {
     "duration": 0.315559,
     "end_time": "2022-02-26T04:37:10.171541",
     "exception": false,
     "start_time": "2022-02-26T04:37:09.855982",
     "status": "completed"
    },
    "tags": []
   },
   "outputs": [
    {
     "data": {
      "application/javascript": [
       "parent.postMessage({\"jupyterEvent\": \"custom.exercise_interaction\", \"data\": {\"outcomeType\": 1, \"valueTowardsCompletion\": 0.3333333333333333, \"interactionType\": 1, \"questionType\": 2, \"questionId\": \"3.1_PlotBlueScatter\", \"learnToolsVersion\": \"0.3.4\", \"failureMessage\": \"\", \"exceptionClass\": \"\", \"trace\": \"\"}}, \"*\")"
      ],
      "text/plain": [
       "<IPython.core.display.Javascript object>"
      ]
     },
     "metadata": {},
     "output_type": "display_data"
    },
    {
     "data": {
      "text/markdown": [
       "<span style=\"color:#33cc33\">Correct</span>"
      ],
      "text/plain": [
       "Correct"
      ]
     },
     "metadata": {},
     "output_type": "display_data"
    },
    {
     "data": {
      "image/png": "[encoded data removed]",
      "text/plain": [
       "<Figure size 432x288 with 1 Axes>"
      ]
     },
     "metadata": {
      "needs_background": "light"
     },
     "output_type": "display_data"
    }
   ],
   "source": [
    "# Scatter plot showing the relationship between 'sugarpercent' and 'winpercent'\n",
    "sns.scatterplot(x=candy_data['sugarpercent'], y=candy_data['winpercent']) # Your code here\n",
    "\n",
    "# Check your answer\n",
    "step_3.a.check()"
   ]
  },
  {
   "cell_type": "code",
   "execution_count": 10,
   "id": "0ffcdc88",
   "metadata": {
    "execution": {
     "iopub.execute_input": "2022-02-26T04:37:10.257871Z",
     "iopub.status.busy": "2022-02-26T04:37:10.257221Z",
     "iopub.status.idle": "2022-02-26T04:37:10.483747Z",
     "shell.execute_reply": "2022-02-26T04:37:10.484293Z",
     "shell.execute_reply.started": "2022-02-26T04:28:35.776468Z"
    },
    "papermill": {
     "duration": 0.271273,
     "end_time": "2022-02-26T04:37:10.484468",
     "exception": false,
     "start_time": "2022-02-26T04:37:10.213195",
     "status": "completed"
    },
    "tags": []
   },
   "outputs": [
    {
     "data": {
      "application/javascript": [
       "parent.postMessage({\"jupyterEvent\": \"custom.exercise_interaction\", \"data\": {\"interactionType\": 3, \"questionType\": 2, \"questionId\": \"3.1_PlotBlueScatter\", \"learnToolsVersion\": \"0.3.4\", \"valueTowardsCompletion\": 0.0, \"failureMessage\": \"\", \"exceptionClass\": \"\", \"trace\": \"\", \"outcomeType\": 4}}, \"*\")"
      ],
      "text/plain": [
       "<IPython.core.display.Javascript object>"
      ]
     },
     "metadata": {},
     "output_type": "display_data"
    },
    {
     "data": {
      "text/markdown": [
       "<span style=\"color:#33cc99\">Solution:</span> \n",
       "```python\n",
       "# Scatter plot showing the relationship between 'sugarpercent' and 'winpercent'\n",
       "sns.scatterplot(x=candy_data['sugarpercent'], y=candy_data['winpercent'])\n",
       "\n",
       "```"
      ],
      "text/plain": [
       "Solution: \n",
       "```python\n",
       "# Scatter plot showing the relationship between 'sugarpercent' and 'winpercent'\n",
       "sns.scatterplot(x=candy_data['sugarpercent'], y=candy_data['winpercent'])\n",
       "\n",
       "```"
      ]
     },
     "metadata": {},
     "output_type": "display_data"
    },
    {
     "data": {
      "image/png": "[encoded data removed]",
      "text/plain": [
       "<Figure size 432x288 with 1 Axes>"
      ]
     },
     "metadata": {
      "needs_background": "light"
     },
     "output_type": "display_data"
    }
   ],
   "source": [
    "# Lines below will give you a hint or solution code\n",
    "#step_3.a.hint()\n",
    "step_3.a.solution_plot()"
   ]
  },
  {
   "cell_type": "markdown",
   "id": "de543a0f",
   "metadata": {
    "papermill": {
     "duration": 0.043445,
     "end_time": "2022-02-26T04:37:10.571710",
     "exception": false,
     "start_time": "2022-02-26T04:37:10.528265",
     "status": "completed"
    },
    "tags": []
   },
   "source": [
    "#### Part B\n",
    "\n",
    "Does the scatter plot show a **strong** correlation between the two variables?  If so, are candies with more sugar relatively more or less popular with the survey respondents?"
   ]
  },
  {
   "cell_type": "code",
   "execution_count": 11,
   "id": "9ba52727",
   "metadata": {
    "execution": {
     "iopub.execute_input": "2022-02-26T04:37:10.662488Z",
     "iopub.status.busy": "2022-02-26T04:37:10.661009Z",
     "iopub.status.idle": "2022-02-26T04:37:10.665713Z",
     "shell.execute_reply": "2022-02-26T04:37:10.665049Z"
    },
    "papermill": {
     "duration": 0.050675,
     "end_time": "2022-02-26T04:37:10.665877",
     "exception": false,
     "start_time": "2022-02-26T04:37:10.615202",
     "status": "completed"
    },
    "tags": []
   },
   "outputs": [],
   "source": [
    "#step_3.b.hint()"
   ]
  },
  {
   "cell_type": "code",
   "execution_count": 12,
   "id": "68fd120a",
   "metadata": {
    "execution": {
     "iopub.execute_input": "2022-02-26T04:37:10.756731Z",
     "iopub.status.busy": "2022-02-26T04:37:10.755984Z",
     "iopub.status.idle": "2022-02-26T04:37:10.762346Z",
     "shell.execute_reply": "2022-02-26T04:37:10.762853Z",
     "shell.execute_reply.started": "2022-02-26T04:28:49.881304Z"
    },
    "papermill": {
     "duration": 0.053586,
     "end_time": "2022-02-26T04:37:10.763022",
     "exception": false,
     "start_time": "2022-02-26T04:37:10.709436",
     "status": "completed"
    },
    "tags": []
   },
   "outputs": [
    {
     "data": {
      "application/javascript": [
       "parent.postMessage({\"jupyterEvent\": \"custom.exercise_interaction\", \"data\": {\"interactionType\": 3, \"questionType\": 4, \"questionId\": \"3.2_ThinkBlueScatter\", \"learnToolsVersion\": \"0.3.4\", \"valueTowardsCompletion\": 0.0, \"failureMessage\": \"\", \"exceptionClass\": \"\", \"trace\": \"\", \"outcomeType\": 4}}, \"*\")"
      ],
      "text/plain": [
       "<IPython.core.display.Javascript object>"
      ]
     },
     "metadata": {},
     "output_type": "display_data"
    },
    {
     "data": {
      "text/markdown": [
       "<span style=\"color:#33cc99\">Solution:</span> The scatter plot does not show a strong correlation between the two variables. Since there is no clear relationship between the two variables, this tells us that sugar content does not play a strong role in candy popularity."
      ],
      "text/plain": [
       "Solution: The scatter plot does not show a strong correlation between the two variables. Since there is no clear relationship between the two variables, this tells us that sugar content does not play a strong role in candy popularity."
      ]
     },
     "metadata": {},
     "output_type": "display_data"
    }
   ],
   "source": [
    "# Check your answer (Run this code cell to receive credit!)\n",
    "step_3.b.solution()"
   ]
  },
  {
   "cell_type": "markdown",
   "id": "14e4f5d8",
   "metadata": {
    "papermill": {
     "duration": 0.045494,
     "end_time": "2022-02-26T04:37:10.853664",
     "exception": false,
     "start_time": "2022-02-26T04:37:10.808170",
     "status": "completed"
    },
    "tags": []
   },
   "source": [
    "## Step 4: Take a closer look\n",
    "\n",
    "#### Part A\n",
    "\n",
    "Create the same scatter plot you created in **Step 3**, but now with a regression line!"
   ]
  },
  {
   "cell_type": "code",
   "execution_count": 13,
   "id": "28167236",
   "metadata": {
    "execution": {
     "iopub.execute_input": "2022-02-26T04:37:10.947521Z",
     "iopub.status.busy": "2022-02-26T04:37:10.946853Z",
     "iopub.status.idle": "2022-02-26T04:37:11.302973Z",
     "shell.execute_reply": "2022-02-26T04:37:11.302314Z",
     "shell.execute_reply.started": "2022-02-26T04:29:46.201860Z"
    },
    "papermill": {
     "duration": 0.404869,
     "end_time": "2022-02-26T04:37:11.303113",
     "exception": false,
     "start_time": "2022-02-26T04:37:10.898244",
     "status": "completed"
    },
    "tags": []
   },
   "outputs": [
    {
     "data": {
      "application/javascript": [
       "parent.postMessage({\"jupyterEvent\": \"custom.exercise_interaction\", \"data\": {\"outcomeType\": 1, \"valueTowardsCompletion\": 0.3333333333333333, \"interactionType\": 1, \"questionType\": 2, \"questionId\": \"4.1_PlotBlueReg\", \"learnToolsVersion\": \"0.3.4\", \"failureMessage\": \"\", \"exceptionClass\": \"\", \"trace\": \"\"}}, \"*\")"
      ],
      "text/plain": [
       "<IPython.core.display.Javascript object>"
      ]
     },
     "metadata": {},
     "output_type": "display_data"
    },
    {
     "data": {
      "text/markdown": [
       "<span style=\"color:#33cc33\">Correct</span>"
      ],
      "text/plain": [
       "Correct"
      ]
     },
     "metadata": {},
     "output_type": "display_data"
    },
    {
     "data": {
      "image/png": "[encoded data removed]",
      "text/plain": [
       "<Figure size 432x288 with 1 Axes>"
      ]
     },
     "metadata": {
      "needs_background": "light"
     },
     "output_type": "display_data"
    }
   ],
   "source": [
    "# Scatter plot w/ regression line showing the relationship between 'sugarpercent' and 'winpercent'\n",
    "sns.regplot(x=candy_data['sugarpercent'], y=candy_data['winpercent']) # Your code here\n",
    "\n",
    "# Check your answer\n",
    "step_4.a.check()"
   ]
  },
  {
   "cell_type": "code",
   "execution_count": 14,
   "id": "1f9d20e6",
   "metadata": {
    "execution": {
     "iopub.execute_input": "2022-02-26T04:37:11.403560Z",
     "iopub.status.busy": "2022-02-26T04:37:11.402655Z",
     "iopub.status.idle": "2022-02-26T04:37:11.405024Z",
     "shell.execute_reply": "2022-02-26T04:37:11.405638Z"
    },
    "papermill": {
     "duration": 0.054774,
     "end_time": "2022-02-26T04:37:11.405829",
     "exception": false,
     "start_time": "2022-02-26T04:37:11.351055",
     "status": "completed"
    },
    "tags": []
   },
   "outputs": [],
   "source": [
    "# Lines below will give you a hint or solution code\n",
    "#step_4.a.hint()\n",
    "#step_4.a.solution_plot()"
   ]
  },
  {
   "cell_type": "markdown",
   "id": "541d821f",
   "metadata": {
    "papermill": {
     "duration": 0.046622,
     "end_time": "2022-02-26T04:37:11.500584",
     "exception": false,
     "start_time": "2022-02-26T04:37:11.453962",
     "status": "completed"
    },
    "tags": []
   },
   "source": [
    "#### Part B\n",
    "\n",
    "According to the plot above, is there a **slight** correlation between `'winpercent'` and `'sugarpercent'`?  What does this tell you about the candy that people tend to prefer?"
   ]
  },
  {
   "cell_type": "code",
   "execution_count": 15,
   "id": "2b58a689",
   "metadata": {
    "execution": {
     "iopub.execute_input": "2022-02-26T04:37:11.598699Z",
     "iopub.status.busy": "2022-02-26T04:37:11.597198Z",
     "iopub.status.idle": "2022-02-26T04:37:11.601343Z",
     "shell.execute_reply": "2022-02-26T04:37:11.601807Z"
    },
    "papermill": {
     "duration": 0.054641,
     "end_time": "2022-02-26T04:37:11.601983",
     "exception": false,
     "start_time": "2022-02-26T04:37:11.547342",
     "status": "completed"
    },
    "tags": []
   },
   "outputs": [],
   "source": [
    "#step_4.b.hint()"
   ]
  },
  {
   "cell_type": "code",
   "execution_count": 16,
   "id": "54ed2bd0",
   "metadata": {
    "execution": {
     "iopub.execute_input": "2022-02-26T04:37:11.700845Z",
     "iopub.status.busy": "2022-02-26T04:37:11.700160Z",
     "iopub.status.idle": "2022-02-26T04:37:11.707412Z",
     "shell.execute_reply": "2022-02-26T04:37:11.706893Z",
     "shell.execute_reply.started": "2022-02-26T04:29:59.141627Z"
    },
    "papermill": {
     "duration": 0.058442,
     "end_time": "2022-02-26T04:37:11.707568",
     "exception": false,
     "start_time": "2022-02-26T04:37:11.649126",
     "status": "completed"
    },
    "tags": []
   },
   "outputs": [
    {
     "data": {
      "application/javascript": [
       "parent.postMessage({\"jupyterEvent\": \"custom.exercise_interaction\", \"data\": {\"interactionType\": 3, \"questionType\": 4, \"questionId\": \"4.2_ThinkBlueReg\", \"learnToolsVersion\": \"0.3.4\", \"valueTowardsCompletion\": 0.0, \"failureMessage\": \"\", \"exceptionClass\": \"\", \"trace\": \"\", \"outcomeType\": 4}}, \"*\")"
      ],
      "text/plain": [
       "<IPython.core.display.Javascript object>"
      ]
     },
     "metadata": {},
     "output_type": "display_data"
    },
    {
     "data": {
      "text/markdown": [
       "<span style=\"color:#33cc99\">Solution:</span> Since the regression line has a slightly positive slope, this tells us that there is a slightly positive correlation between `'winpercent'` and `'sugarpercent'`. Thus, people have a slight preference for candies containing relatively more sugar."
      ],
      "text/plain": [
       "Solution: Since the regression line has a slightly positive slope, this tells us that there is a slightly positive correlation between `'winpercent'` and `'sugarpercent'`. Thus, people have a slight preference for candies containing relatively more sugar."
      ]
     },
     "metadata": {},
     "output_type": "display_data"
    }
   ],
   "source": [
    "# Check your answer (Run this code cell to receive credit!)\n",
    "step_4.b.solution()"
   ]
  },
  {
   "cell_type": "markdown",
   "id": "fb2a9886",
   "metadata": {
    "papermill": {
     "duration": 0.049392,
     "end_time": "2022-02-26T04:37:11.806847",
     "exception": false,
     "start_time": "2022-02-26T04:37:11.757455",
     "status": "completed"
    },
    "tags": []
   },
   "source": [
    "## Step 5: Chocolate!\n",
    "\n",
    "In the code cell below, create a scatter plot to show the relationship between `'pricepercent'` (on the horizontal x-axis) and `'winpercent'` (on the vertical y-axis). Use the `'chocolate'` column to color-code the points.  _Don't add any regression lines just yet -- you'll do that in the next step!_"
   ]
  },
  {
   "cell_type": "code",
   "execution_count": 17,
   "id": "aa97a0a9",
   "metadata": {
    "execution": {
     "iopub.execute_input": "2022-02-26T04:37:11.936178Z",
     "iopub.status.busy": "2022-02-26T04:37:11.935387Z",
     "iopub.status.idle": "2022-02-26T04:37:12.236299Z",
     "shell.execute_reply": "2022-02-26T04:37:12.235467Z",
     "shell.execute_reply.started": "2022-02-26T04:32:30.320786Z"
    },
    "papermill": {
     "duration": 0.380129,
     "end_time": "2022-02-26T04:37:12.236455",
     "exception": false,
     "start_time": "2022-02-26T04:37:11.856326",
     "status": "completed"
    },
    "tags": []
   },
   "outputs": [
    {
     "data": {
      "application/javascript": [
       "parent.postMessage({\"jupyterEvent\": \"custom.exercise_interaction\", \"data\": {\"outcomeType\": 1, \"valueTowardsCompletion\": 0.3333333333333333, \"interactionType\": 1, \"questionType\": 2, \"questionId\": \"5_ColorScatter\", \"learnToolsVersion\": \"0.3.4\", \"failureMessage\": \"\", \"exceptionClass\": \"\", \"trace\": \"\"}}, \"*\")"
      ],
      "text/plain": [
       "<IPython.core.display.Javascript object>"
      ]
     },
     "metadata": {},
     "output_type": "display_data"
    },
    {
     "data": {
      "text/markdown": [
       "<span style=\"color:#33cc33\">Correct</span>"
      ],
      "text/plain": [
       "Correct"
      ]
     },
     "metadata": {},
     "output_type": "display_data"
    },
    {
     "data": {
      "image/png": "[encoded data removed]",
      "text/plain": [
       "<Figure size 432x288 with 1 Axes>"
      ]
     },
     "metadata": {
      "needs_background": "light"
     },
     "output_type": "display_data"
    }
   ],
   "source": [
    "# Scatter plot showing the relationship between 'pricepercent', 'winpercent', and 'chocolate'\n",
    "sns.scatterplot(x=candy_data['pricepercent'],y=candy_data['winpercent'],hue=candy_data['chocolate']) # Your code here\n",
    "\n",
    "# Check your answer\n",
    "step_5.check()"
   ]
  },
  {
   "cell_type": "code",
   "execution_count": 18,
   "id": "b01f0bcc",
   "metadata": {
    "execution": {
     "iopub.execute_input": "2022-02-26T04:37:12.345499Z",
     "iopub.status.busy": "2022-02-26T04:37:12.344542Z",
     "iopub.status.idle": "2022-02-26T04:37:12.348170Z",
     "shell.execute_reply": "2022-02-26T04:37:12.348679Z",
     "shell.execute_reply.started": "2022-02-26T04:32:55.576066Z"
    },
    "papermill": {
     "duration": 0.059304,
     "end_time": "2022-02-26T04:37:12.348866",
     "exception": false,
     "start_time": "2022-02-26T04:37:12.289562",
     "status": "completed"
    },
    "tags": []
   },
   "outputs": [],
   "source": [
    "# Lines below will give you a hint or solution code\n",
    "#step_5.hint()\n",
    "#step_5.solution_plot()"
   ]
  },
  {
   "cell_type": "markdown",
   "id": "d50a89c8",
   "metadata": {
    "papermill": {
     "duration": 0.051655,
     "end_time": "2022-02-26T04:37:12.451729",
     "exception": false,
     "start_time": "2022-02-26T04:37:12.400074",
     "status": "completed"
    },
    "tags": []
   },
   "source": [
    "Can you see any interesting patterns in the scatter plot?  We'll investigate this plot further  by adding regression lines in the next step!\n",
    "\n",
    "## Step 6: Investigate chocolate\n",
    "\n",
    "#### Part A\n",
    "\n",
    "Create the same scatter plot you created in **Step 5**, but now with two regression lines, corresponding to (1) chocolate candies and (2) candies without chocolate."
   ]
  },
  {
   "cell_type": "code",
   "execution_count": 19,
   "id": "50600a46",
   "metadata": {
    "execution": {
     "iopub.execute_input": "2022-02-26T04:37:12.559398Z",
     "iopub.status.busy": "2022-02-26T04:37:12.558355Z",
     "iopub.status.idle": "2022-02-26T04:37:13.242110Z",
     "shell.execute_reply": "2022-02-26T04:37:13.241414Z",
     "shell.execute_reply.started": "2022-02-26T04:33:58.530803Z"
    },
    "papermill": {
     "duration": 0.739043,
     "end_time": "2022-02-26T04:37:13.242254",
     "exception": false,
     "start_time": "2022-02-26T04:37:12.503211",
     "status": "completed"
    },
    "tags": []
   },
   "outputs": [
    {
     "data": {
      "application/javascript": [
       "parent.postMessage({\"jupyterEvent\": \"custom.exercise_interaction\", \"data\": {\"outcomeType\": 1, \"valueTowardsCompletion\": 0.3333333333333333, \"interactionType\": 1, \"questionType\": 2, \"questionId\": \"6.1_PlotColorReg\", \"learnToolsVersion\": \"0.3.4\", \"failureMessage\": \"\", \"exceptionClass\": \"\", \"trace\": \"\"}}, \"*\")"
      ],
      "text/plain": [
       "<IPython.core.display.Javascript object>"
      ]
     },
     "metadata": {},
     "output_type": "display_data"
    },
    {
     "data": {
      "text/markdown": [
       "<span style=\"color:#33cc33\">Correct</span>"
      ],
      "text/plain": [
       "Correct"
      ]
     },
     "metadata": {},
     "output_type": "display_data"
    },
    {
     "data": {
      "image/png": "[encoded data removed]",
      "text/plain": [
       "<Figure size 416.375x360 with 1 Axes>"
      ]
     },
     "metadata": {
      "needs_background": "light"
     },
     "output_type": "display_data"
    }
   ],
   "source": [
    "# Color-coded scatter plot w/ regression lines\n",
    "sns.lmplot(x='pricepercent',y='winpercent',hue='chocolate',data=candy_data) # Your code here\n",
    "\n",
    "# Check your answer\n",
    "step_6.a.check()"
   ]
  },
  {
   "cell_type": "code",
   "execution_count": 20,
   "id": "c0be4556",
   "metadata": {
    "execution": {
     "iopub.execute_input": "2022-02-26T04:37:13.354513Z",
     "iopub.status.busy": "2022-02-26T04:37:13.353456Z",
     "iopub.status.idle": "2022-02-26T04:37:13.355795Z",
     "shell.execute_reply": "2022-02-26T04:37:13.356434Z"
    },
    "papermill": {
     "duration": 0.060783,
     "end_time": "2022-02-26T04:37:13.356640",
     "exception": false,
     "start_time": "2022-02-26T04:37:13.295857",
     "status": "completed"
    },
    "tags": []
   },
   "outputs": [],
   "source": [
    "# Lines below will give you a hint or solution code\n",
    "#step_6.a.hint()\n",
    "#step_6.a.solution_plot()"
   ]
  },
  {
   "cell_type": "markdown",
   "id": "158ec459",
   "metadata": {
    "papermill": {
     "duration": 0.054323,
     "end_time": "2022-02-26T04:37:13.465601",
     "exception": false,
     "start_time": "2022-02-26T04:37:13.411278",
     "status": "completed"
    },
    "tags": []
   },
   "source": [
    "#### Part B\n",
    "\n",
    "Using the regression lines, what conclusions can you draw about the effects of chocolate and price on candy popularity?"
   ]
  },
  {
   "cell_type": "code",
   "execution_count": 21,
   "id": "83b39e75",
   "metadata": {
    "execution": {
     "iopub.execute_input": "2022-02-26T04:37:13.579951Z",
     "iopub.status.busy": "2022-02-26T04:37:13.579160Z",
     "iopub.status.idle": "2022-02-26T04:37:13.581776Z",
     "shell.execute_reply": "2022-02-26T04:37:13.582253Z"
    },
    "papermill": {
     "duration": 0.062056,
     "end_time": "2022-02-26T04:37:13.582430",
     "exception": false,
     "start_time": "2022-02-26T04:37:13.520374",
     "status": "completed"
    },
    "tags": []
   },
   "outputs": [],
   "source": [
    "#step_6.b.hint()"
   ]
  },
  {
   "cell_type": "code",
   "execution_count": 22,
   "id": "01010061",
   "metadata": {
    "execution": {
     "iopub.execute_input": "2022-02-26T04:37:13.701393Z",
     "iopub.status.busy": "2022-02-26T04:37:13.700242Z",
     "iopub.status.idle": "2022-02-26T04:37:13.706085Z",
     "shell.execute_reply": "2022-02-26T04:37:13.706544Z",
     "shell.execute_reply.started": "2022-02-26T04:34:09.424447Z"
    },
    "papermill": {
     "duration": 0.069247,
     "end_time": "2022-02-26T04:37:13.706767",
     "exception": false,
     "start_time": "2022-02-26T04:37:13.637520",
     "status": "completed"
    },
    "tags": []
   },
   "outputs": [
    {
     "data": {
      "application/javascript": [
       "parent.postMessage({\"jupyterEvent\": \"custom.exercise_interaction\", \"data\": {\"interactionType\": 3, \"questionType\": 4, \"questionId\": \"6.2_ThinkColorReg\", \"learnToolsVersion\": \"0.3.4\", \"valueTowardsCompletion\": 0.0, \"failureMessage\": \"\", \"exceptionClass\": \"\", \"trace\": \"\", \"outcomeType\": 4}}, \"*\")"
      ],
      "text/plain": [
       "<IPython.core.display.Javascript object>"
      ]
     },
     "metadata": {},
     "output_type": "display_data"
    },
    {
     "data": {
      "text/markdown": [
       "<span style=\"color:#33cc99\">Solution:</span> We'll begin with the regression line for chocolate candies. Since this line has a slightly positive slope, we can say that more expensive chocolate candies tend to be more popular (than relatively cheaper chocolate candies).  Likewise, since the regression line for candies without chocolate has a negative slope, we can say that if candies don't contain chocolate, they tend to be more popular when they are cheaper.  One important note, however, is that the dataset is quite small -- so we shouldn't invest too much trust in these patterns!  To inspire more confidence in the results, we should add more candies to the dataset."
      ],
      "text/plain": [
       "Solution: We'll begin with the regression line for chocolate candies. Since this line has a slightly positive slope, we can say that more expensive chocolate candies tend to be more popular (than relatively cheaper chocolate candies).  Likewise, since the regression line for candies without chocolate has a negative slope, we can say that if candies don't contain chocolate, they tend to be more popular when they are cheaper.  One important note, however, is that the dataset is quite small -- so we shouldn't invest too much trust in these patterns!  To inspire more confidence in the results, we should add more candies to the dataset."
      ]
     },
     "metadata": {},
     "output_type": "display_data"
    }
   ],
   "source": [
    "# Check your answer (Run this code cell to receive credit!)\n",
    "step_6.b.solution()"
   ]
  },
  {
   "cell_type": "markdown",
   "id": "7008a54d",
   "metadata": {
    "papermill": {
     "duration": 0.059829,
     "end_time": "2022-02-26T04:37:13.826588",
     "exception": false,
     "start_time": "2022-02-26T04:37:13.766759",
     "status": "completed"
    },
    "tags": []
   },
   "source": [
    "## Step 7: Everybody loves chocolate.\n",
    "\n",
    "#### Part A\n",
    "\n",
    "Create a categorical scatter plot to highlight the relationship between `'chocolate'` and `'winpercent'`.  Put `'chocolate'` on the (horizontal) x-axis, and `'winpercent'` on the (vertical) y-axis."
   ]
  },
  {
   "cell_type": "code",
   "execution_count": 23,
   "id": "896da9ab",
   "metadata": {
    "execution": {
     "iopub.execute_input": "2022-02-26T04:37:13.955378Z",
     "iopub.status.busy": "2022-02-26T04:37:13.953998Z",
     "iopub.status.idle": "2022-02-26T04:37:14.167685Z",
     "shell.execute_reply": "2022-02-26T04:37:14.166971Z",
     "shell.execute_reply.started": "2022-02-26T04:35:06.445647Z"
    },
    "papermill": {
     "duration": 0.282702,
     "end_time": "2022-02-26T04:37:14.167839",
     "exception": false,
     "start_time": "2022-02-26T04:37:13.885137",
     "status": "completed"
    },
    "tags": []
   },
   "outputs": [
    {
     "data": {
      "application/javascript": [
       "parent.postMessage({\"jupyterEvent\": \"custom.exercise_interaction\", \"data\": {\"outcomeType\": 1, \"valueTowardsCompletion\": 0.3333333333333333, \"interactionType\": 1, \"questionType\": 2, \"questionId\": \"7.1_PlotSwarm\", \"learnToolsVersion\": \"0.3.4\", \"failureMessage\": \"\", \"exceptionClass\": \"\", \"trace\": \"\"}}, \"*\")"
      ],
      "text/plain": [
       "<IPython.core.display.Javascript object>"
      ]
     },
     "metadata": {},
     "output_type": "display_data"
    },
    {
     "data": {
      "text/markdown": [
       "<span style=\"color:#33cc33\">Correct</span>"
      ],
      "text/plain": [
       "Correct"
      ]
     },
     "metadata": {},
     "output_type": "display_data"
    },
    {
     "data": {
      "image/png": "[encoded data removed]",
      "text/plain": [
       "<Figure size 432x288 with 1 Axes>"
      ]
     },
     "metadata": {
      "needs_background": "light"
     },
     "output_type": "display_data"
    }
   ],
   "source": [
    "# Scatter plot showing the relationship between 'chocolate' and 'winpercent'\n",
    "sns.swarmplot(x=candy_data['chocolate'], y=candy_data['winpercent']) # Your code here\n",
    "\n",
    "# Check your answer\n",
    "step_7.a.check()"
   ]
  },
  {
   "cell_type": "code",
   "execution_count": 24,
   "id": "d0116208",
   "metadata": {
    "execution": {
     "iopub.execute_input": "2022-02-26T04:37:14.298276Z",
     "iopub.status.busy": "2022-02-26T04:37:14.297412Z",
     "iopub.status.idle": "2022-02-26T04:37:14.301380Z",
     "shell.execute_reply": "2022-02-26T04:37:14.301977Z",
     "shell.execute_reply.started": "2022-02-26T04:35:14.768216Z"
    },
    "papermill": {
     "duration": 0.070741,
     "end_time": "2022-02-26T04:37:14.302204",
     "exception": false,
     "start_time": "2022-02-26T04:37:14.231463",
     "status": "completed"
    },
    "tags": []
   },
   "outputs": [],
   "source": [
    "# Lines below will give you a hint or solution code\n",
    "#step_7.a.hint()\n",
    "#step_7.a.solution_plot()"
   ]
  },
  {
   "cell_type": "markdown",
   "id": "4b8e1ecf",
   "metadata": {
    "papermill": {
     "duration": 0.056708,
     "end_time": "2022-02-26T04:37:14.416367",
     "exception": false,
     "start_time": "2022-02-26T04:37:14.359659",
     "status": "completed"
    },
    "tags": []
   },
   "source": [
    "#### Part B\n",
    "\n",
    "You decide to dedicate a section of your report to the fact that chocolate candies tend to be more popular than candies without chocolate.  Which plot is more appropriate to tell this story: the plot from **Step 6**, or the plot from **Step 7**?"
   ]
  },
  {
   "cell_type": "code",
   "execution_count": 25,
   "id": "67813303",
   "metadata": {
    "execution": {
     "iopub.execute_input": "2022-02-26T04:37:14.536909Z",
     "iopub.status.busy": "2022-02-26T04:37:14.536093Z",
     "iopub.status.idle": "2022-02-26T04:37:14.539290Z",
     "shell.execute_reply": "2022-02-26T04:37:14.539868Z"
    },
    "papermill": {
     "duration": 0.064531,
     "end_time": "2022-02-26T04:37:14.540048",
     "exception": false,
     "start_time": "2022-02-26T04:37:14.475517",
     "status": "completed"
    },
    "tags": []
   },
   "outputs": [],
   "source": [
    "#step_7.b.hint()"
   ]
  },
  {
   "cell_type": "code",
   "execution_count": 26,
   "id": "584dc60d",
   "metadata": {
    "execution": {
     "iopub.execute_input": "2022-02-26T04:37:14.660426Z",
     "iopub.status.busy": "2022-02-26T04:37:14.659725Z",
     "iopub.status.idle": "2022-02-26T04:37:14.666444Z",
     "shell.execute_reply": "2022-02-26T04:37:14.666954Z",
     "shell.execute_reply.started": "2022-02-26T04:35:33.832863Z"
    },
    "papermill": {
     "duration": 0.069286,
     "end_time": "2022-02-26T04:37:14.667144",
     "exception": false,
     "start_time": "2022-02-26T04:37:14.597858",
     "status": "completed"
    },
    "tags": []
   },
   "outputs": [
    {
     "data": {
      "application/javascript": [
       "parent.postMessage({\"jupyterEvent\": \"custom.exercise_interaction\", \"data\": {\"interactionType\": 3, \"questionType\": 4, \"questionId\": \"7.2_ThinkSwarm\", \"learnToolsVersion\": \"0.3.4\", \"valueTowardsCompletion\": 0.0, \"failureMessage\": \"\", \"exceptionClass\": \"\", \"trace\": \"\", \"outcomeType\": 4}}, \"*\")"
      ],
      "text/plain": [
       "<IPython.core.display.Javascript object>"
      ]
     },
     "metadata": {},
     "output_type": "display_data"
    },
    {
     "data": {
      "text/markdown": [
       "<span style=\"color:#33cc99\">Solution:</span> In this case, the categorical scatter plot from **Step 7** is the more appropriate plot. While both plots tell the desired story, the plot from **Step 6** conveys far more information that could distract from the main point."
      ],
      "text/plain": [
       "Solution: In this case, the categorical scatter plot from **Step 7** is the more appropriate plot. While both plots tell the desired story, the plot from **Step 6** conveys far more information that could distract from the main point."
      ]
     },
     "metadata": {},
     "output_type": "display_data"
    }
   ],
   "source": [
    "# Check your answer (Run this code cell to receive credit!)\n",
    "step_7.b.solution()"
   ]
  },
  {
   "cell_type": "markdown",
   "id": "fc11dc6a",
   "metadata": {
    "papermill": {
     "duration": 0.058869,
     "end_time": "2022-02-26T04:37:14.785865",
     "exception": false,
     "start_time": "2022-02-26T04:37:14.726996",
     "status": "completed"
    },
    "tags": []
   },
   "source": [
    "## Keep going\n",
    "\n",
    "Explore **[histograms and density plots](https://www.kaggle.com/alexisbcook/distributions)**."
   ]
  },
  {
   "cell_type": "markdown",
   "id": "2b572638",
   "metadata": {
    "papermill": {
     "duration": 0.060027,
     "end_time": "2022-02-26T04:37:14.904551",
     "exception": false,
     "start_time": "2022-02-26T04:37:14.844524",
     "status": "completed"
    },
    "tags": []
   },
   "source": [
    "---\n",
    "\n",
    "\n",
    "\n",
    "\n",
    "*Have questions or comments? Visit the [course discussion forum](https://www.kaggle.com/learn/data-visualization/discussion) to chat with other learners.*"
   ]
  }
 ],
 "metadata": {
  "kernelspec": {
   "display_name": "Python 3",
   "language": "python",
   "name": "python3"
  },
  "language_info": {
   "codemirror_mode": {
    "name": "ipython",
    "version": 3
   },
   "file_extension": ".py",
   "mimetype": "text/x-python",
   "name": "python",
   "nbconvert_exporter": "python",
   "pygments_lexer": "ipython3",
   "version": "3.7.12"
  },
  "papermill": {
   "default_parameters": {},
   "duration": 20.15073,
   "end_time": "2022-02-26T04:37:15.676283",
   "environment_variables": {},
   "exception": null,
   "input_path": "__notebook__.ipynb",
   "output_path": "__notebook__.ipynb",
   "parameters": {},
   "start_time": "2022-02-26T04:36:55.525553",
   "version": "2.3.3"
  }
 },
 "nbformat": 4,
 "nbformat_minor": 5
}
